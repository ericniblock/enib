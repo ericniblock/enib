{
 "cells": [
  {
   "cell_type": "markdown",
   "metadata": {},
   "source": [
    "# Code for The Random Puzzlers"
   ]
  },
  {
   "cell_type": "markdown",
   "metadata": {},
   "source": [
    "You can find a complete write up on ericniblock.com. I fully acknowledge that this is not the most efficient solution to this problem, though it is elegant in a sense."
   ]
  },
  {
   "cell_type": "code",
   "execution_count": null,
   "metadata": {},
   "outputs": [],
   "source": [
    "import networkx \n",
    "from networkx.algorithms.components.connected import connected_components\n",
    "import numpy as np\n",
    "import matplotlib.pyplot as plt\n",
    "import matplotlib"
   ]
  },
  {
   "cell_type": "code",
   "execution_count": 23,
   "metadata": {},
   "outputs": [],
   "source": [
    "def create_game(M, N, players):\n",
    "    ## Input: Columns, Rows, Number of Players\n",
    "    ## Output: A matrix of size N x M which assigns a player to each piece of the puzzle\n",
    "    \n",
    "    ## Note: Make M divisible by the number of players, just for simplicity\n",
    "    \n",
    "    owner = np.ones((M,N))\n",
    "    scope = M/players\n",
    "    playlist = list(range(players))\n",
    "    for p in range(len(playlist)):\n",
    "        owner[int(playlist[p]*scope):int((playlist[p]+1)*scope),:] = playlist[p]\n",
    "    owner = owner.ravel()\n",
    "    np.random.shuffle(owner)\n",
    "    owner = owner.reshape(M,N)\n",
    "    return(owner)"
   ]
  },
  {
   "cell_type": "code",
   "execution_count": 24,
   "metadata": {},
   "outputs": [],
   "source": [
    "def possible_pieces(M,N):\n",
    "    ## Input: Columns, Rows\n",
    "    ## Output: A dictionary with an index for each piece, and who's entries describe valid connections \n",
    "    \n",
    "    relevant = {}\n",
    "    for y in range(M):\n",
    "        for x in range(N):\n",
    "            relevant[(y,x)] = []\n",
    "            if y != 0:\n",
    "                relevant[(y,x)].append((y-1,x))\n",
    "            if y != M-1:\n",
    "                relevant[(y,x)].append((y+1,x))\n",
    "            if x != 0:\n",
    "                relevant[(y,x)].append((y,x-1))\n",
    "            if x != N-1:\n",
    "                relevant[(y,x)].append((y,x+1))\n",
    "    return(relevant)"
   ]
  },
  {
   "cell_type": "code",
   "execution_count": 22,
   "metadata": {},
   "outputs": [],
   "source": [
    "def to_graph(l):\n",
    "    ## Input: A list of sublists, where a sublist exists for every singular piece and contains all valid \n",
    "    ##        connections for just that singular piece\n",
    "    ## Output: A network of these 'nodes'\n",
    "    \n",
    "    G = networkx.Graph()\n",
    "    for part in l:\n",
    "        G.add_nodes_from(part)\n",
    "        G.add_edges_from(to_edges(part))\n",
    "    return G\n",
    "\n",
    "def to_edges(l):\n",
    "    ## Input: The network created above\n",
    "    ## Output: A network with newly formed edges connecting sublists that share common elements\n",
    "\n",
    "    it = iter(l)\n",
    "    last = next(it)\n",
    "    for current in it:\n",
    "        yield last, current\n",
    "        last = current    "
   ]
  },
  {
   "cell_type": "code",
   "execution_count": 25,
   "metadata": {},
   "outputs": [],
   "source": [
    "def run_round(relevant, owner):\n",
    "    ## Input: A dictionary describing valid connections (generated from 'possible_pieces'), \n",
    "    ##        and a matrix of size N x M which assigns a player to each piece of the puzzle\n",
    "    ## Output: A list of sublists, with each sublist containing a 'piece' (all contiguous \n",
    "    ##        sets of pieces, and remaining single pieces)\n",
    "    \n",
    "    all_matches = []\n",
    "    for key in list(relevant.keys()):\n",
    "        num = owner[key[0],key[1]]\n",
    "        match = [key]\n",
    "        for option in relevant[key]:\n",
    "            if owner[option[0],option[1]] == num:\n",
    "                match.append(option)\n",
    "        all_matches.append(match)\n",
    "    G = to_graph(all_matches)\n",
    "    groups = list(connected_components(G))\n",
    "    groups = [list(i) for i in groups]\n",
    "    return(groups)"
   ]
  },
  {
   "cell_type": "code",
   "execution_count": 26,
   "metadata": {},
   "outputs": [],
   "source": [
    "def new_owners(owners, groups, players):\n",
    "    ## Input: A matrix of size N x M which assigns a player to each piece of the puzzle, \n",
    "    ##        group-lists generated from 'run_round', and the number of players\n",
    "    ## Output: A new matrix of size N x M which assigns a player to each piece of the \n",
    "    ##        puzzle from the set of congealed pieces\n",
    "    \n",
    "    owner = owners\n",
    "    num, div = len(groups), players\n",
    "    split = [num // div + (1 if x < num % div else 0)  for x in range (div)]\n",
    "    newsplit = split\n",
    "    for i in range(1,len(split)):\n",
    "        newsplit[i] = split[i]+split[i-1]\n",
    "    newsplit = [0] + newsplit\n",
    "    new = np.zeros(len(groups))\n",
    "    for e in range(len(newsplit)-1):\n",
    "        new[newsplit[e]:newsplit[e+1]] = e\n",
    "    np.random.shuffle(new)\n",
    "    for k in range(len(groups)):\n",
    "        temp = groups[k]\n",
    "        for l in temp:\n",
    "            owner[l[0],l[1]] = new[k]\n",
    "    return(owner)"
   ]
  },
  {
   "cell_type": "code",
   "execution_count": 27,
   "metadata": {},
   "outputs": [],
   "source": [
    "## This runs a simulation of solving the puzzle for a given number of rounds, and stores the puzzle after each round\n",
    "\n",
    "M = 20                 ## Columns\n",
    "N = 50                 ## Rows\n",
    "players = 5            ## M must be divisible by players\n",
    "num_rounds = 10        ## How many rounds to simulate\n",
    "\n",
    "start = create_game(M,N,players)\n",
    "r = possible_pieces(M,N)\n",
    "\n",
    "ownership = start\n",
    "data_matrix = [start.copy()]\n",
    "\n",
    "for t in range(num_rounds):\n",
    "    groups = run_round(r, ownership)\n",
    "    ownership = new_owners(ownership, groups, players)\n",
    "    data_matrix.append(ownership.copy())"
   ]
  },
  {
   "cell_type": "code",
   "execution_count": 41,
   "metadata": {
    "scrolled": false
   },
   "outputs": [
    {
     "data": {
      "image/png": "[encoded data removed]",
      "text/plain": [
       "<Figure size 720x720 with 1 Axes>"
      ]
     },
     "metadata": {
      "needs_background": "light"
     },
     "output_type": "display_data"
    }
   ],
   "source": [
    "## Use this to plot any round from the simulation ran above\n",
    "\n",
    "fig, ax = plt.subplots(1, 1, tight_layout=True, figsize=(10,10))\n",
    "# make color map\n",
    "my_cmap = matplotlib.colors.ListedColormap(['#9FB3C8' ,\n",
    "'#627D98' ,\n",
    "'#486581' ,\n",
    "'#334E68' ,\n",
    "'#102A43'])\n",
    "# set the 'bad' values (nan) to be white and transparent\n",
    "my_cmap.set_bad(color='w', alpha=0)\n",
    "# draw the grid\n",
    "for x in range(N + 1):\n",
    "    ax.axhline(x, lw=2, color='k', zorder=5)\n",
    "for x in range(M + 1):\n",
    "    ax.axvline(x, lw=2, color='k', zorder=5)\n",
    "# draw the boxes\n",
    "\n",
    "ax.imshow(data_matrix[9].T, interpolation='none', cmap=my_cmap, extent=[0, M, 0, N], zorder=0) ## Pick round here (change index)\n",
    "# turn off the axis labels\n",
    "ax.axis('off')\n",
    "plt.savefig('test_picpz9.png')"
   ]
  },
  {
   "cell_type": "code",
   "execution_count": null,
   "metadata": {},
   "outputs": [],
   "source": []
  },
  {
   "cell_type": "markdown",
   "metadata": {},
   "source": [
    "Everything below this point just contains the the code used to construct the plots on ericniblock.com. There is no explanation or annotation."
   ]
  },
  {
   "cell_type": "code",
   "execution_count": null,
   "metadata": {},
   "outputs": [],
   "source": []
  },
  {
   "cell_type": "code",
   "execution_count": 101,
   "metadata": {},
   "outputs": [],
   "source": [
    "sliding = []\n",
    "thresh = [20,30,40,50,60,70,80,90,100,120,140,160,180,200]\n",
    "for m in thresh:\n",
    "    totrss = []\n",
    "    for ii in range(1000):\n",
    "        rss = []\n",
    "        M = m ## Columns\n",
    "        N = 50 ## Rows\n",
    "        players = 5\n",
    "\n",
    "        start = create_game(M,N,players)\n",
    "        r = possible_pieces(M,N)\n",
    "\n",
    "        ownership = start\n",
    "\n",
    "        for t in range(10):\n",
    "            groups = run_round(r, ownership)\n",
    "            sizesing = 0\n",
    "            for g in groups:\n",
    "                if len(g) == 1:\n",
    "                    sizesing+=1\n",
    "            rss.append(sizesing)\n",
    "            ownership = new_owners(ownership, groups, players)\n",
    "    \n",
    "        totrss.append(rss)\n",
    "    sliding.append(np.array(totrss))"
   ]
  },
  {
   "cell_type": "code",
   "execution_count": 118,
   "metadata": {},
   "outputs": [],
   "source": [
    "thresh = [20,30,40,50,60,70,80,90,100,120,140,160,180,200]\n",
    "all_xs = []\n",
    "all_vals = []\n",
    "all_errs = []\n",
    "for m in range(len(thresh)):\n",
    "    xs = []\n",
    "    vals = []\n",
    "    errs = []\n",
    "    for col in range(10):\n",
    "        xs.append(col+1)\n",
    "        vals.append(np.mean(sliding[m][:,col]/(50*thresh[m]))) \n",
    "        errs.append(np.std(sliding[m][:,col]/(50*thresh[m]))/(1000**0.5))\n",
    "    all_xs.append(xs)\n",
    "    all_vals.append(vals)\n",
    "    all_errs.append(errs)"
   ]
  },
  {
   "cell_type": "code",
   "execution_count": 226,
   "metadata": {},
   "outputs": [
    {
     "data": {
      "text/html": [
       "        <script type=\"text/javascript\">\n",
       "        window.PlotlyConfig = {MathJaxConfig: 'local'};\n",
       "        if (window.MathJax) {MathJax.Hub.Config({SVG: {font: \"STIX-Web\"}});}\n",
       "        if (typeof require !== 'undefined') {\n",
       "        require.undef(\"plotly\");\n",
       "        requirejs.config({\n",
       "            paths: {\n",
       "                'plotly': ['https://cdn.plot.ly/plotly-latest.min']\n",
       "            }\n",
       "        });\n",
       "        require(['plotly'], function(Plotly) {\n",
       "            window._Plotly = Plotly;\n",
       "        });\n",
       "        }\n",
       "        </script>\n",
       "        "
      ]
     },
     "metadata": {},
     "output_type": "display_data"
    },
    {
     "data": {
      "application/vnd.plotly.v1+json": {
       "config": {
        "linkText": "Export to plot.ly",
        "plotlyServerURL": "https://plot.ly",
        "showLink": false
       },
       "data": [
        {
         "line": {
          "color": "#102a43",
          "width": 2
         },
         "mode": "markers",
         "name": "20",
         "showlegend": true,
         "type": "scatter",
         "uid": "380328b3-bdd1-4af7-badc-a48f98e4e21f",
         "x": [
          1,
          2,
          3,
          4,
          5,
          6,
          7,
          8,
          9,
          10
         ],
         "y": [
          0.42404899999999995,
          0.189859,
          0.095001,
          0.05385700000000001,
          0.034447000000000005,
          0.023760000000000007,
          0.017656,
          0.013587000000000004,
          0.010717000000000003,
          0.008655000000000001
         ]
        },
        {
         "line": {
          "color": "#1c364e",
          "width": 2
         },
         "mode": "markers",
         "name": "30",
         "showlegend": true,
         "type": "scatter",
         "uid": "6539f109-68ed-487d-acba-c5afa952efb1",
         "x": [
          1,
          2,
          3,
          4,
          5,
          6,
          7,
          8,
          9,
          10
         ],
         "y": [
          0.421316,
          0.18690733333333331,
          0.09285666666666667,
          0.052729333333333336,
          0.03370733333333334,
          0.02339666666666667,
          0.017188,
          0.013151333333333334,
          0.010374666666666666,
          0.008304666666666667
         ]
        },
        {
         "line": {
          "color": "#284159",
          "width": 2
         },
         "mode": "markers",
         "name": "40",
         "showlegend": true,
         "type": "scatter",
         "uid": "e3e9d727-7351-4897-9c40-cf1fd5865332",
         "x": [
          1,
          2,
          3,
          4,
          5,
          6,
          7,
          8,
          9,
          10
         ],
         "y": [
          0.4193315,
          0.1857965,
          0.09194799999999999,
          0.0516935,
          0.0328075,
          0.022663500000000003,
          0.016642000000000004,
          0.012747500000000002,
          0.009975000000000001,
          0.0079295
         ]
        },
        {
         "line": {
          "color": "#344d64",
          "width": 2
         },
         "mode": "markers",
         "name": "50",
         "showlegend": true,
         "type": "scatter",
         "uid": "c7a2e49f-3fc7-4d9c-a757-bd9986291b4d",
         "x": [
          1,
          2,
          3,
          4,
          5,
          6,
          7,
          8,
          9,
          10
         ],
         "y": [
          0.41854399999999997,
          0.18437440000000002,
          0.0912612,
          0.0513508,
          0.0325124,
          0.022470000000000004,
          0.0164872,
          0.0125164,
          0.009802,
          0.0078072
         ]
        },
        {
         "line": {
          "color": "#40586f",
          "width": 2
         },
         "mode": "markers",
         "name": "60",
         "showlegend": true,
         "type": "scatter",
         "uid": "d8dbaafd-b697-4e92-9010-e49ef8e8e80a",
         "x": [
          1,
          2,
          3,
          4,
          5,
          6,
          7,
          8,
          9,
          10
         ],
         "y": [
          0.4167346666666666,
          0.18335866666666667,
          0.090243,
          0.050735333333333334,
          0.032172000000000006,
          0.022238,
          0.016271,
          0.012416333333333335,
          0.009694000000000001,
          0.007690666666666667
         ]
        },
        {
         "line": {
          "color": "#4d647a",
          "width": 2
         },
         "mode": "markers",
         "name": "70",
         "showlegend": true,
         "type": "scatter",
         "uid": "6240b429-7e53-4632-a011-564acb758ff5",
         "x": [
          1,
          2,
          3,
          4,
          5,
          6,
          7,
          8,
          9,
          10
         ],
         "y": [
          0.4166805714285714,
          0.18241714285714286,
          0.089866,
          0.050542000000000004,
          0.03197885714285714,
          0.021996571428571428,
          0.01608,
          0.012204285714285714,
          0.009466857142857141,
          0.007499714285714285
         ]
        },
        {
         "line": {
          "color": "#597085",
          "width": 2
         },
         "mode": "markers",
         "name": "80",
         "showlegend": true,
         "type": "scatter",
         "uid": "8c9c6327-9246-4416-895f-e9ccd08ac988",
         "x": [
          1,
          2,
          3,
          4,
          5,
          6,
          7,
          8,
          9,
          10
         ],
         "y": [
          0.416277,
          0.18233349999999998,
          0.08952750000000001,
          0.050393,
          0.03179975,
          0.02193975,
          0.01601925,
          0.012168000000000003,
          0.00948675,
          0.007491500000000002
         ]
        },
        {
         "line": {
          "color": "#657b90",
          "width": 2
         },
         "mode": "markers",
         "name": "90",
         "showlegend": true,
         "type": "scatter",
         "uid": "05ee3973-74bd-4c05-bead-28bc638e9e99",
         "x": [
          1,
          2,
          3,
          4,
          5,
          6,
          7,
          8,
          9,
          10
         ],
         "y": [
          0.41603222222222225,
          0.18207555555555557,
          0.08927000000000002,
          0.05014888888888889,
          0.03168066666666667,
          0.02185688888888889,
          0.01592311111111111,
          0.012085555555555554,
          0.009400666666666668,
          0.0074155555555555554
         ]
        },
        {
         "line": {
          "color": "#71879b",
          "width": 2
         },
         "mode": "markers",
         "name": "100",
         "showlegend": true,
         "type": "scatter",
         "uid": "1360886d-e614-4028-b6d4-c801c1b87189",
         "x": [
          1,
          2,
          3,
          4,
          5,
          6,
          7,
          8,
          9,
          10
         ],
         "y": [
          0.4157474,
          0.1824478,
          0.08931839999999999,
          0.0501436,
          0.03173260000000001,
          0.021853400000000002,
          0.0159216,
          0.01203,
          0.009316600000000001,
          0.0073578
         ]
        },
        {
         "line": {
          "color": "#7d92a7",
          "width": 2
         },
         "mode": "markers",
         "name": "120",
         "showlegend": true,
         "type": "scatter",
         "uid": "aa1fd887-da6e-4b7c-9796-56467eeb5aba",
         "x": [
          1,
          2,
          3,
          4,
          5,
          6,
          7,
          8,
          9,
          10
         ],
         "y": [
          0.4151296666666667,
          0.1816446666666667,
          0.08889033333333334,
          0.0499195,
          0.0314925,
          0.02173066666666667,
          0.015851666666666667,
          0.012004333333333336,
          0.009324666666666667,
          0.007325333333333333
         ]
        },
        {
         "line": {
          "color": "#899eb2",
          "width": 2
         },
         "mode": "markers",
         "name": "140",
         "showlegend": true,
         "type": "scatter",
         "uid": "e2f7e715-e870-477d-adfe-28e4b23a8635",
         "x": [
          1,
          2,
          3,
          4,
          5,
          6,
          7,
          8,
          9,
          10
         ],
         "y": [
          0.41521399999999997,
          0.18172714285714286,
          0.08894914285714285,
          0.049864571428571425,
          0.03150457142857143,
          0.02163042857142857,
          0.01569957142857143,
          0.011914999999999999,
          0.009245571428571428,
          0.007270857142857142
         ]
        },
        {
         "line": {
          "color": "#95a9bd",
          "width": 2
         },
         "mode": "markers",
         "name": "160",
         "showlegend": true,
         "type": "scatter",
         "uid": "fe19f80b-d6c8-453b-851c-99ffaf9cd687",
         "x": [
          1,
          2,
          3,
          4,
          5,
          6,
          7,
          8,
          9,
          10
         ],
         "y": [
          0.41530399999999995,
          0.18163962500000003,
          0.08893999999999999,
          0.049795,
          0.031437375,
          0.021652124999999998,
          0.015795375,
          0.01190375,
          0.00921575,
          0.00725
         ]
        },
        {
         "line": {
          "color": "#a1b5c8",
          "width": 2
         },
         "mode": "markers",
         "name": "180",
         "showlegend": true,
         "type": "scatter",
         "uid": "eef8bdce-3217-4d4a-ba71-b41e10ffe000",
         "x": [
          1,
          2,
          3,
          4,
          5,
          6,
          7,
          8,
          9,
          10
         ],
         "y": [
          0.41515611111111117,
          0.1813188888888889,
          0.0888171111111111,
          0.04971711111111111,
          0.031343666666666666,
          0.021533,
          0.015677333333333335,
          0.01185411111111111,
          0.009165666666666667,
          0.0072050000000000005
         ]
        },
        {
         "line": {
          "color": "#aec1d3",
          "width": 2
         },
         "mode": "markers",
         "name": "200",
         "showlegend": true,
         "type": "scatter",
         "uid": "e262c491-2f41-4968-acdd-63534e4c8768",
         "x": [
          1,
          2,
          3,
          4,
          5,
          6,
          7,
          8,
          9,
          10
         ],
         "y": [
          0.41480519999999993,
          0.18112630000000002,
          0.088685,
          0.0497746,
          0.0313996,
          0.021594299999999997,
          0.015733,
          0.011879999999999998,
          0.009180100000000002,
          0.0072092
         ]
        }
       ],
       "layout": {
        "annotations": [
         {
          "align": "right",
          "showarrow": false,
          "text": "Puzzle Width",
          "valign": "top",
          "x": 1.07,
          "xanchor": "center",
          "xref": "paper",
          "y": 1.04,
          "yanchor": "top",
          "yref": "paper"
         }
        ],
        "height": 528,
        "legend": {
         "x": 1.1,
         "xanchor": "right",
         "y": 0.99,
         "yanchor": "top"
        },
        "showlegend": true,
        "title": {
         "text": "Proportion of Single Pieces Remaining as a Function of the Number of Rounds"
        },
        "width": 704,
        "xaxis": {
         "showline": false,
         "title": {
          "text": "Number of Rounds Played"
         },
         "zeroline": false
        },
        "yaxis": {
         "title": {
          "text": "Proportion of Single Pieces"
         },
         "zeroline": false
        }
       }
      },
      "text/html": [
       "<div>\n",
       "        \n",
       "        \n",
       "            <div id=\"437b250c-abd8-48c1-bac0-4c06dac0b29e\" class=\"plotly-graph-div\" style=\"height:528px; width:704px;\"></div>\n",
       "            <script type=\"text/javascript\">\n",
       "                require([\"plotly\"], function(Plotly) {\n",
       "                    window.PLOTLYENV=window.PLOTLYENV || {};\n",
       "                    window.PLOTLYENV.BASE_URL='https://plot.ly';\n",
       "                    \n",
       "                if (document.getElementById(\"437b250c-abd8-48c1-bac0-4c06dac0b29e\")) {\n",
       "                    Plotly.newPlot(\n",
       "                        '437b250c-abd8-48c1-bac0-4c06dac0b29e',\n",
       "                        [{\"line\": {\"color\": \"#102a43\", \"width\": 2}, \"mode\": \"markers\", \"name\": \"20\", \"showlegend\": true, \"type\": \"scatter\", \"uid\": \"380328b3-bdd1-4af7-badc-a48f98e4e21f\", \"x\": [1, 2, 3, 4, 5, 6, 7, 8, 9, 10], \"y\": [0.42404899999999995, 0.189859, 0.095001, 0.05385700000000001, 0.034447000000000005, 0.023760000000000007, 0.017656, 0.013587000000000004, 0.010717000000000003, 0.008655000000000001]}, {\"line\": {\"color\": \"#1c364e\", \"width\": 2}, \"mode\": \"markers\", \"name\": \"30\", \"showlegend\": true, \"type\": \"scatter\", \"uid\": \"6539f109-68ed-487d-acba-c5afa952efb1\", \"x\": [1, 2, 3, 4, 5, 6, 7, 8, 9, 10], \"y\": [0.421316, 0.18690733333333331, 0.09285666666666667, 0.052729333333333336, 0.03370733333333334, 0.02339666666666667, 0.017188, 0.013151333333333334, 0.010374666666666666, 0.008304666666666667]}, {\"line\": {\"color\": \"#284159\", \"width\": 2}, \"mode\": \"markers\", \"name\": \"40\", \"showlegend\": true, \"type\": \"scatter\", \"uid\": \"e3e9d727-7351-4897-9c40-cf1fd5865332\", \"x\": [1, 2, 3, 4, 5, 6, 7, 8, 9, 10], \"y\": [0.4193315, 0.1857965, 0.09194799999999999, 0.0516935, 0.0328075, 0.022663500000000003, 0.016642000000000004, 0.012747500000000002, 0.009975000000000001, 0.0079295]}, {\"line\": {\"color\": \"#344d64\", \"width\": 2}, \"mode\": \"markers\", \"name\": \"50\", \"showlegend\": true, \"type\": \"scatter\", \"uid\": \"c7a2e49f-3fc7-4d9c-a757-bd9986291b4d\", \"x\": [1, 2, 3, 4, 5, 6, 7, 8, 9, 10], \"y\": [0.41854399999999997, 0.18437440000000002, 0.0912612, 0.0513508, 0.0325124, 0.022470000000000004, 0.0164872, 0.0125164, 0.009802, 0.0078072]}, {\"line\": {\"color\": \"#40586f\", \"width\": 2}, \"mode\": \"markers\", \"name\": \"60\", \"showlegend\": true, \"type\": \"scatter\", \"uid\": \"d8dbaafd-b697-4e92-9010-e49ef8e8e80a\", \"x\": [1, 2, 3, 4, 5, 6, 7, 8, 9, 10], \"y\": [0.4167346666666666, 0.18335866666666667, 0.090243, 0.050735333333333334, 0.032172000000000006, 0.022238, 0.016271, 0.012416333333333335, 0.009694000000000001, 0.007690666666666667]}, {\"line\": {\"color\": \"#4d647a\", \"width\": 2}, \"mode\": \"markers\", \"name\": \"70\", \"showlegend\": true, \"type\": \"scatter\", \"uid\": \"6240b429-7e53-4632-a011-564acb758ff5\", \"x\": [1, 2, 3, 4, 5, 6, 7, 8, 9, 10], \"y\": [0.4166805714285714, 0.18241714285714286, 0.089866, 0.050542000000000004, 0.03197885714285714, 0.021996571428571428, 0.01608, 0.012204285714285714, 0.009466857142857141, 0.007499714285714285]}, {\"line\": {\"color\": \"#597085\", \"width\": 2}, \"mode\": \"markers\", \"name\": \"80\", \"showlegend\": true, \"type\": \"scatter\", \"uid\": \"8c9c6327-9246-4416-895f-e9ccd08ac988\", \"x\": [1, 2, 3, 4, 5, 6, 7, 8, 9, 10], \"y\": [0.416277, 0.18233349999999998, 0.08952750000000001, 0.050393, 0.03179975, 0.02193975, 0.01601925, 0.012168000000000003, 0.00948675, 0.007491500000000002]}, {\"line\": {\"color\": \"#657b90\", \"width\": 2}, \"mode\": \"markers\", \"name\": \"90\", \"showlegend\": true, \"type\": \"scatter\", \"uid\": \"05ee3973-74bd-4c05-bead-28bc638e9e99\", \"x\": [1, 2, 3, 4, 5, 6, 7, 8, 9, 10], \"y\": [0.41603222222222225, 0.18207555555555557, 0.08927000000000002, 0.05014888888888889, 0.03168066666666667, 0.02185688888888889, 0.01592311111111111, 0.012085555555555554, 0.009400666666666668, 0.0074155555555555554]}, {\"line\": {\"color\": \"#71879b\", \"width\": 2}, \"mode\": \"markers\", \"name\": \"100\", \"showlegend\": true, \"type\": \"scatter\", \"uid\": \"1360886d-e614-4028-b6d4-c801c1b87189\", \"x\": [1, 2, 3, 4, 5, 6, 7, 8, 9, 10], \"y\": [0.4157474, 0.1824478, 0.08931839999999999, 0.0501436, 0.03173260000000001, 0.021853400000000002, 0.0159216, 0.01203, 0.009316600000000001, 0.0073578]}, {\"line\": {\"color\": \"#7d92a7\", \"width\": 2}, \"mode\": \"markers\", \"name\": \"120\", \"showlegend\": true, \"type\": \"scatter\", \"uid\": \"aa1fd887-da6e-4b7c-9796-56467eeb5aba\", \"x\": [1, 2, 3, 4, 5, 6, 7, 8, 9, 10], \"y\": [0.4151296666666667, 0.1816446666666667, 0.08889033333333334, 0.0499195, 0.0314925, 0.02173066666666667, 0.015851666666666667, 0.012004333333333336, 0.009324666666666667, 0.007325333333333333]}, {\"line\": {\"color\": \"#899eb2\", \"width\": 2}, \"mode\": \"markers\", \"name\": \"140\", \"showlegend\": true, \"type\": \"scatter\", \"uid\": \"e2f7e715-e870-477d-adfe-28e4b23a8635\", \"x\": [1, 2, 3, 4, 5, 6, 7, 8, 9, 10], \"y\": [0.41521399999999997, 0.18172714285714286, 0.08894914285714285, 0.049864571428571425, 0.03150457142857143, 0.02163042857142857, 0.01569957142857143, 0.011914999999999999, 0.009245571428571428, 0.007270857142857142]}, {\"line\": {\"color\": \"#95a9bd\", \"width\": 2}, \"mode\": \"markers\", \"name\": \"160\", \"showlegend\": true, \"type\": \"scatter\", \"uid\": \"fe19f80b-d6c8-453b-851c-99ffaf9cd687\", \"x\": [1, 2, 3, 4, 5, 6, 7, 8, 9, 10], \"y\": [0.41530399999999995, 0.18163962500000003, 0.08893999999999999, 0.049795, 0.031437375, 0.021652124999999998, 0.015795375, 0.01190375, 0.00921575, 0.00725]}, {\"line\": {\"color\": \"#a1b5c8\", \"width\": 2}, \"mode\": \"markers\", \"name\": \"180\", \"showlegend\": true, \"type\": \"scatter\", \"uid\": \"eef8bdce-3217-4d4a-ba71-b41e10ffe000\", \"x\": [1, 2, 3, 4, 5, 6, 7, 8, 9, 10], \"y\": [0.41515611111111117, 0.1813188888888889, 0.0888171111111111, 0.04971711111111111, 0.031343666666666666, 0.021533, 0.015677333333333335, 0.01185411111111111, 0.009165666666666667, 0.0072050000000000005]}, {\"line\": {\"color\": \"#aec1d3\", \"width\": 2}, \"mode\": \"markers\", \"name\": \"200\", \"showlegend\": true, \"type\": \"scatter\", \"uid\": \"e262c491-2f41-4968-acdd-63534e4c8768\", \"x\": [1, 2, 3, 4, 5, 6, 7, 8, 9, 10], \"y\": [0.41480519999999993, 0.18112630000000002, 0.088685, 0.0497746, 0.0313996, 0.021594299999999997, 0.015733, 0.011879999999999998, 0.009180100000000002, 0.0072092]}],\n",
       "                        {\"annotations\": [{\"align\": \"right\", \"showarrow\": false, \"text\": \"Puzzle Width\", \"valign\": \"top\", \"x\": 1.07, \"xanchor\": \"center\", \"xref\": \"paper\", \"y\": 1.04, \"yanchor\": \"top\", \"yref\": \"paper\"}], \"height\": 528, \"legend\": {\"x\": 1.1, \"xanchor\": \"right\", \"y\": 0.99, \"yanchor\": \"top\"}, \"showlegend\": true, \"title\": {\"text\": \"Proportion of Single Pieces Remaining as a Function of the Number of Rounds\"}, \"width\": 704, \"xaxis\": {\"showline\": false, \"title\": {\"text\": \"Number of Rounds Played\"}, \"zeroline\": false}, \"yaxis\": {\"title\": {\"text\": \"Proportion of Single Pieces\"}, \"zeroline\": false}},\n",
       "                        {\"showLink\": false, \"linkText\": \"Export to plot.ly\", \"plotlyServerURL\": \"https://plot.ly\", \"responsive\": true}\n",
       "                    ).then(function(){\n",
       "                            \n",
       "var gd = document.getElementById('437b250c-abd8-48c1-bac0-4c06dac0b29e');\n",
       "var x = new MutationObserver(function (mutations, observer) {{\n",
       "        var display = window.getComputedStyle(gd).display;\n",
       "        if (!display || display === 'none') {{\n",
       "            console.log([gd, 'removed!']);\n",
       "            Plotly.purge(gd);\n",
       "            observer.disconnect();\n",
       "        }}\n",
       "}});\n",
       "\n",
       "// Listen for the removal of the full notebook cells\n",
       "var notebookContainer = gd.closest('#notebook-container');\n",
       "if (notebookContainer) {{\n",
       "    x.observe(notebookContainer, {childList: true});\n",
       "}}\n",
       "\n",
       "// Listen for the clearing of the current output cell\n",
       "var outputEl = gd.closest('.output');\n",
       "if (outputEl) {{\n",
       "    x.observe(outputEl, {childList: true});\n",
       "}}\n",
       "\n",
       "                        })\n",
       "                };\n",
       "                });\n",
       "            </script>\n",
       "        </div>"
      ]
     },
     "metadata": {},
     "output_type": "display_data"
    }
   ],
   "source": [
    "import plotly.offline as pyo\n",
    "import plotly.graph_objs as go\n",
    "pyo.offline.init_notebook_mode(connected=True)\n",
    "\n",
    "data = []\n",
    "\n",
    "for s in range(len(sliding)):\n",
    "    \n",
    "    trace = go.Scatter(\n",
    "        x = all_xs[s],\n",
    "        y = all_vals[s],\n",
    "        showlegend=True,\n",
    "#         error_y=dict(\n",
    "#             type='data',\n",
    "#             symmetric=False,\n",
    "#             array=np.array(all_errs[s])*1.96,\n",
    "#             arrayminus=np.array(all_errs[s])*1.96),\n",
    "        mode = 'markers',\n",
    "        name=str(thresh[s]),\n",
    "        line = dict(\n",
    "            color = matplotlib.colors.rgb2hex(cm(s)),\n",
    "            width = 2),\n",
    "    )\n",
    "    \n",
    "    data.append(trace)\n",
    "\n",
    "layout = go.Layout(\n",
    "    title = 'Proportion of Single Pieces Remaining as a Function of the Number of Rounds',\n",
    "    width=8*88,\n",
    "    height=6*88,\n",
    "#     margin=go.layout.Margin(\n",
    "#         l=50,\n",
    "#         r=80,\n",
    "#         b=80,\n",
    "#         t=100),\n",
    "    legend=dict(\n",
    "        yanchor=\"top\",\n",
    "        y=0.99,\n",
    "        xanchor=\"right\",\n",
    "        x=1.1),\n",
    "        showlegend=True,\n",
    "    xaxis=dict(\n",
    "        title = 'Number of Rounds Played',\n",
    "        showline=False,\n",
    "        zeroline=False\n",
    "    ),\n",
    "    yaxis=dict(\n",
    "        title = 'Proportion of Single Pieces',\n",
    "        zeroline=False\n",
    "    ),\n",
    "    annotations=[\n",
    "        dict(\n",
    "            x=1.07,\n",
    "            y=1.04,\n",
    "            align=\"right\",\n",
    "            valign=\"top\",\n",
    "            text='Puzzle Width',\n",
    "            showarrow=False,\n",
    "            xref=\"paper\",\n",
    "            yref=\"paper\",\n",
    "            xanchor=\"center\",\n",
    "            yanchor=\"top\"\n",
    "        )\n",
    "    ]\n",
    ")\n",
    "\n",
    "fig = go.Figure(data=data, layout=layout)\n",
    "fig.write_html(\"puzzlewidth.html\")\n",
    "pyo.iplot(fig, filename='line-mode')"
   ]
  },
  {
   "cell_type": "code",
   "execution_count": 227,
   "metadata": {},
   "outputs": [],
   "source": [
    "l=50\n",
    "ratio = []\n",
    "for w in thresh:\n",
    "    ratio.append(((l-1)*(w-1))/(l+l+w+w-4))"
   ]
  },
  {
   "cell_type": "code",
   "execution_count": 130,
   "metadata": {},
   "outputs": [
    {
     "data": {
      "image/png": "[encoded data removed]",
      "text/plain": [
       "<Figure size 432x288 with 1 Axes>"
      ]
     },
     "metadata": {
      "needs_background": "light"
     },
     "output_type": "display_data"
    }
   ],
   "source": [
    "import matplotlib.pyplot as plt\n",
    "from matplotlib.colors import LinearSegmentedColormap\n",
    "import numpy as np\n",
    "\n",
    "colors = ['#102A43', '#deefff'] # first color is black, last is red\n",
    "cm = LinearSegmentedColormap.from_list(\n",
    "        \"Custom\", colors, N=18)\n",
    "mat = np.indices((30,30))[1]\n",
    "plt.imshow(mat, cmap=cm)\n",
    "plt.show()"
   ]
  },
  {
   "cell_type": "code",
   "execution_count": 116,
   "metadata": {},
   "outputs": [
    {
     "data": {
      "text/plain": [
       "'#cddfef'"
      ]
     },
     "execution_count": 116,
     "metadata": {},
     "output_type": "execute_result"
    }
   ],
   "source": [
    "matplotlib.colors.rgb2hex(cm(11))"
   ]
  },
  {
   "cell_type": "code",
   "execution_count": 190,
   "metadata": {},
   "outputs": [],
   "source": [
    "V = np.array(all_vals)\n",
    "E = np.array(all_errs)"
   ]
  },
  {
   "cell_type": "code",
   "execution_count": 236,
   "metadata": {},
   "outputs": [
    {
     "data": {
      "text/html": [
       "        <script type=\"text/javascript\">\n",
       "        window.PlotlyConfig = {MathJaxConfig: 'local'};\n",
       "        if (window.MathJax) {MathJax.Hub.Config({SVG: {font: \"STIX-Web\"}});}\n",
       "        if (typeof require !== 'undefined') {\n",
       "        require.undef(\"plotly\");\n",
       "        requirejs.config({\n",
       "            paths: {\n",
       "                'plotly': ['https://cdn.plot.ly/plotly-latest.min']\n",
       "            }\n",
       "        });\n",
       "        require(['plotly'], function(Plotly) {\n",
       "            window._Plotly = Plotly;\n",
       "        });\n",
       "        }\n",
       "        </script>\n",
       "        "
      ]
     },
     "metadata": {},
     "output_type": "display_data"
    },
    {
     "data": {
      "application/vnd.plotly.v1+json": {
       "config": {
        "linkText": "Export to plot.ly",
        "plotlyServerURL": "https://plot.ly",
        "showLink": false
       },
       "data": [
        {
         "error_y": {
          "array": [
           0.0016960343881198396,
           0.0013857802431350545,
           0.0011955320652295143,
           0.0011126965620758536,
           0.0009575136578678613,
           0.0008684135184443344,
           0.0008508668673165949,
           0.00078854523213373,
           0.0007400910872203824,
           0.0006922239428409083,
           0.0006182321605899432,
           0.0005894053578052461,
           0.0005724852324489886,
           0.0005298783128577264
          ],
          "symmetric": true,
          "type": "data"
         },
         "line": {
          "color": "#102a43",
          "width": 2
         },
         "mode": "markers",
         "name": "1",
         "showlegend": true,
         "type": "scatter",
         "uid": "a3e2f39c-1c66-4434-8a3b-29b1d100dd3c",
         "x": [
          20,
          30,
          40,
          50,
          60,
          70,
          80,
          90,
          100,
          120,
          140,
          160,
          180,
          200
         ],
         "y": [
          0.42404899999999995,
          0.421316,
          0.4193315,
          0.41854399999999997,
          0.4167346666666666,
          0.4166805714285714,
          0.416277,
          0.41603222222222225,
          0.4157474,
          0.4151296666666667,
          0.41521399999999997,
          0.41530399999999995,
          0.41515611111111117,
          0.41480519999999993
         ]
        },
        {
         "error_y": {
          "array": [
           0.001191609207986729,
           0.0009966191035156854,
           0.0008396954879158444,
           0.0007372116071396753,
           0.0006746528754388903,
           0.0006145600702749563,
           0.0005944242637501795,
           0.0005453437886034057,
           0.0005320226460155665,
           0.0004798683324126276,
           0.0004439335158908623,
           0.00040738037870740495,
           0.0003853191193735443,
           0.0003598635858651468
          ],
          "symmetric": true,
          "type": "data"
         },
         "line": {
          "color": "#284159",
          "width": 2
         },
         "mode": "markers",
         "name": "2",
         "showlegend": true,
         "type": "scatter",
         "uid": "fd79e610-cb6d-4cd9-960f-a797e43fda70",
         "x": [
          20,
          30,
          40,
          50,
          60,
          70,
          80,
          90,
          100,
          120,
          140,
          160,
          180,
          200
         ],
         "y": [
          0.189859,
          0.18690733333333331,
          0.1857965,
          0.18437440000000002,
          0.18335866666666667,
          0.18241714285714286,
          0.18233349999999998,
          0.18207555555555557,
          0.1824478,
          0.1816446666666667,
          0.18172714285714286,
          0.18163962500000003,
          0.1813188888888889,
          0.18112630000000002
         ]
        },
        {
         "error_y": {
          "array": [
           0.0008147992539021123,
           0.0007109951552923785,
           0.0005911492785587716,
           0.0005002801945021691,
           0.00047323460564004495,
           0.00041766787650651265,
           0.000398122857945564,
           0.00037307475417641347,
           0.00036292183793955947,
           0.0003260115749882373,
           0.0003124390227455364,
           0.0002831841925314908,
           0.0002517397150859928,
           0.00025579695808381896
          ],
          "symmetric": true,
          "type": "data"
         },
         "line": {
          "color": "#40586f",
          "width": 2
         },
         "mode": "markers",
         "name": "3",
         "showlegend": true,
         "type": "scatter",
         "uid": "11ec5551-c739-415f-b178-9fcc0b3fdebf",
         "x": [
          20,
          30,
          40,
          50,
          60,
          70,
          80,
          90,
          100,
          120,
          140,
          160,
          180,
          200
         ],
         "y": [
          0.095001,
          0.09285666666666667,
          0.09194799999999999,
          0.0912612,
          0.090243,
          0.089866,
          0.08952750000000001,
          0.08927000000000002,
          0.08931839999999999,
          0.08889033333333334,
          0.08894914285714285,
          0.08893999999999999,
          0.0888171111111111,
          0.088685
         ]
        },
        {
         "error_y": {
          "array": [
           0.0006095125957419675,
           0.0005049538537230699,
           0.00041452023322016235,
           0.00037306780887117684,
           0.00032960487673296953,
           0.0003050320413775698,
           0.0002800138307382976,
           0.00027380241058783366,
           0.00026960789276970625,
           0.00023655635556052974,
           0.0002226739099377391,
           0.00020439265166831763,
           0.00017941242346887343,
           0.00018336901257803956
          ],
          "symmetric": true,
          "type": "data"
         },
         "line": {
          "color": "#597085",
          "width": 2
         },
         "mode": "markers",
         "name": "4",
         "showlegend": true,
         "type": "scatter",
         "uid": "bbc0576e-a829-4d20-a6e8-5faa93590ce4",
         "x": [
          20,
          30,
          40,
          50,
          60,
          70,
          80,
          90,
          100,
          120,
          140,
          160,
          180,
          200
         ],
         "y": [
          0.05385700000000001,
          0.052729333333333336,
          0.0516935,
          0.0513508,
          0.050735333333333334,
          0.050542000000000004,
          0.050393,
          0.05014888888888889,
          0.0501436,
          0.0499195,
          0.049864571428571425,
          0.049795,
          0.04971711111111111,
          0.0497746
         ]
        },
        {
         "error_y": {
          "array": [
           0.00047554314591333457,
           0.0003921469888337048,
           0.0003326957430941126,
           0.0002878009001328186,
           0.000262428101544951,
           0.00024030954519025678,
           0.00022300030344203558,
           0.00022127802397625058,
           0.00021066237167560714,
           0.00018499716228844457,
           0.0001760991842526237,
           0.00016290549930387364,
           0.00014474875059960639,
           0.00014006913267708285
          ],
          "symmetric": true,
          "type": "data"
         },
         "line": {
          "color": "#657b90",
          "width": 2
         },
         "mode": "markers",
         "name": "5",
         "showlegend": true,
         "type": "scatter",
         "uid": "f10fc1ae-7934-40d7-9da2-ebcb520ec0a5",
         "x": [
          20,
          30,
          40,
          50,
          60,
          70,
          80,
          90,
          100,
          120,
          140,
          160,
          180,
          200
         ],
         "y": [
          0.034447000000000005,
          0.03370733333333334,
          0.0328075,
          0.0325124,
          0.032172000000000006,
          0.03197885714285714,
          0.03179975,
          0.03168066666666667,
          0.03173260000000001,
          0.0314925,
          0.03150457142857143,
          0.031437375,
          0.031343666666666666,
          0.0313996
         ]
        },
        {
         "error_y": {
          "array": [
           0.00038698133792781274,
           0.00031809526329700183,
           0.00027341571971031174,
           0.00023691358773877876,
           0.00021535194062393258,
           0.0002058652493118295,
           0.00019086198221957386,
           0.00018230701659131197,
           0.00017008277787158477,
           0.00015370773215272186,
           0.00014472701780140988,
           0.00013605976841625698,
           0.00011993819851411703,
           0.0001151732754139306
          ],
          "symmetric": true,
          "type": "data"
         },
         "line": {
          "color": "#71879b",
          "width": 2
         },
         "mode": "markers",
         "name": "6",
         "showlegend": true,
         "type": "scatter",
         "uid": "c29ea133-9976-4231-8ac3-3019ca71e587",
         "x": [
          20,
          30,
          40,
          50,
          60,
          70,
          80,
          90,
          100,
          120,
          140,
          160,
          180,
          200
         ],
         "y": [
          0.023760000000000007,
          0.02339666666666667,
          0.022663500000000003,
          0.022470000000000004,
          0.022238,
          0.021996571428571428,
          0.02193975,
          0.02185688888888889,
          0.021853400000000002,
          0.02173066666666667,
          0.02163042857142857,
          0.021652124999999998,
          0.021533,
          0.021594299999999997
         ]
        },
        {
         "error_y": {
          "array": [
           0.0003276921192758593,
           0.0002668003168955606,
           0.00023055332030464453,
           0.00020419211115066556,
           0.0001902446425837564,
           0.0001764159728359108,
           0.00016280396720285854,
           0.0001586648784476455,
           0.00014843989227919776,
           0.0001293163567612281,
           0.0001264514719571489,
           0.00011821696330830597,
           0.00010194568187161943,
           9.829480210240518e-05
          ],
          "symmetric": true,
          "type": "data"
         },
         "line": {
          "color": "#899eb2",
          "width": 2
         },
         "mode": "markers",
         "name": "7",
         "showlegend": true,
         "type": "scatter",
         "uid": "2c1362e3-fb48-4eb7-9bf5-ae79ea4eedbe",
         "x": [
          20,
          30,
          40,
          50,
          60,
          70,
          80,
          90,
          100,
          120,
          140,
          160,
          180,
          200
         ],
         "y": [
          0.017656,
          0.017188,
          0.016642000000000004,
          0.0164872,
          0.016271,
          0.01608,
          0.01601925,
          0.01592311111111111,
          0.0159216,
          0.015851666666666667,
          0.01569957142857143,
          0.015795375,
          0.015677333333333335,
          0.015733
         ]
        },
        {
         "error_y": {
          "array": [
           0.00028259806156587664,
           0.00023445604100767278,
           0.0001993727485195601,
           0.00017461396920244796,
           0.0001672258716956862,
           0.00015165192125814878,
           0.00013891981650429144,
           0.00013615244271504218,
           0.00012383367954954744,
           0.00011259140950218136,
           0.00010698623206615782,
           0.00010101465516116801,
           8.835782544293871e-05,
           8.553124025161802e-05
          ],
          "symmetric": true,
          "type": "data"
         },
         "line": {
          "color": "#a1b5c8",
          "width": 2
         },
         "mode": "markers",
         "name": "8",
         "showlegend": true,
         "type": "scatter",
         "uid": "aacddffc-dadd-4be8-b98b-446d54afb14f",
         "x": [
          20,
          30,
          40,
          50,
          60,
          70,
          80,
          90,
          100,
          120,
          140,
          160,
          180,
          200
         ],
         "y": [
          0.013587000000000004,
          0.013151333333333334,
          0.012747500000000002,
          0.0125164,
          0.012416333333333335,
          0.012204285714285714,
          0.012168000000000003,
          0.012085555555555554,
          0.01203,
          0.012004333333333336,
          0.011914999999999999,
          0.01190375,
          0.01185411111111111,
          0.011879999999999998
         ]
        },
        {
         "error_y": {
          "array": [
           0.00024399544622404534,
           0.0002046664541057702,
           0.0001752302277986735,
           0.00015085047474156654,
           0.00014132864071448505,
           0.00013132864579714883,
           0.00012143768025672441,
           0.00011647159634994172,
           0.00010914317641305316,
           9.804148186227887e-05,
           9.281501617238002e-05,
           8.781738952333522e-05,
           7.789906419187502e-05,
           7.347985020220434e-05
          ],
          "symmetric": true,
          "type": "data"
         },
         "line": {
          "color": "#baccde",
          "width": 2
         },
         "mode": "markers",
         "name": "9",
         "showlegend": true,
         "type": "scatter",
         "uid": "0799149e-a482-4467-bdf9-0871af896f5d",
         "x": [
          20,
          30,
          40,
          50,
          60,
          70,
          80,
          90,
          100,
          120,
          140,
          160,
          180,
          200
         ],
         "y": [
          0.010717000000000003,
          0.010374666666666666,
          0.009975000000000001,
          0.009802,
          0.009694000000000001,
          0.009466857142857141,
          0.00948675,
          0.009400666666666668,
          0.009316600000000001,
          0.009324666666666667,
          0.009245571428571428,
          0.00921575,
          0.009165666666666667,
          0.009180100000000002
         ]
        },
        {
         "error_y": {
          "array": [
           0.00021606492762356178,
           0.0001786359555118995,
           0.00015366771468395613,
           0.00013263698882000363,
           0.00012200004755089055,
           0.00011434899233324129,
           0.00010694197606222148,
           0.00010375031843166363,
           9.560503256831598e-05,
           8.52638687730715e-05,
           7.918450175719479e-05,
           7.744612957001145e-05,
           6.902412565809066e-05,
           6.50337925178669e-05
          ],
          "symmetric": true,
          "type": "data"
         },
         "line": {
          "color": "#c6d8e9",
          "width": 2
         },
         "mode": "markers",
         "name": "10",
         "showlegend": true,
         "type": "scatter",
         "uid": "b3c29ef8-950c-4d50-a230-50a36577063c",
         "x": [
          20,
          30,
          40,
          50,
          60,
          70,
          80,
          90,
          100,
          120,
          140,
          160,
          180,
          200
         ],
         "y": [
          0.008655000000000001,
          0.008304666666666667,
          0.0079295,
          0.0078072,
          0.007690666666666667,
          0.007499714285714285,
          0.007491500000000002,
          0.0074155555555555554,
          0.0073578,
          0.007325333333333333,
          0.007270857142857142,
          0.00725,
          0.0072050000000000005,
          0.0072092
         ]
        },
        {
         "line": {
          "color": "gold",
          "width": 2
         },
         "mode": "markers",
         "name": "P/A",
         "showlegend": true,
         "type": "scatter",
         "uid": "13ec975a-a178-4a37-9690-0efd84f318ec",
         "x": [
          20,
          30,
          40,
          50,
          60,
          70,
          80,
          90,
          100,
          120,
          140,
          160,
          180,
          200
         ],
         "y": [
          0.14607948442534907,
          0.10978184377199154,
          0.09209837781266353,
          0.08163265306122448,
          0.074714631615358,
          0.06980183377698905,
          0.06613278222681478,
          0.0632882366429718,
          0.06101834673263245,
          0.057623049219687875,
          0.055204815739245336,
          0.053394942882813504,
          0.05198951088815414,
          0.05086657778689365
         ]
        }
       ],
       "layout": {
        "annotations": [
         {
          "align": "right",
          "showarrow": false,
          "text": "Round",
          "valign": "top",
          "x": 1.07,
          "xanchor": "center",
          "xref": "paper",
          "y": 1.04,
          "yanchor": "top",
          "yref": "paper"
         }
        ],
        "height": 528,
        "showlegend": true,
        "title": {
         "text": "Proportion of Single Pieces Remaining As a Function of Puzzle Width"
        },
        "width": 704,
        "xaxis": {
         "showline": false,
         "title": {
          "text": "Puzzle Width"
         },
         "zeroline": false
        },
        "yaxis": {
         "title": {
          "text": "Proportion of Single Pieces"
         },
         "zeroline": false
        }
       }
      },
      "text/html": [
       "<div>\n",
       "        \n",
       "        \n",
       "            <div id=\"77ab2ebe-5110-45b0-8a1f-5c364013dff5\" class=\"plotly-graph-div\" style=\"height:528px; width:704px;\"></div>\n",
       "            <script type=\"text/javascript\">\n",
       "                require([\"plotly\"], function(Plotly) {\n",
       "                    window.PLOTLYENV=window.PLOTLYENV || {};\n",
       "                    window.PLOTLYENV.BASE_URL='https://plot.ly';\n",
       "                    \n",
       "                if (document.getElementById(\"77ab2ebe-5110-45b0-8a1f-5c364013dff5\")) {\n",
       "                    Plotly.newPlot(\n",
       "                        '77ab2ebe-5110-45b0-8a1f-5c364013dff5',\n",
       "                        [{\"error_y\": {\"array\": [0.0016960343881198396, 0.0013857802431350545, 0.0011955320652295143, 0.0011126965620758536, 0.0009575136578678613, 0.0008684135184443344, 0.0008508668673165949, 0.00078854523213373, 0.0007400910872203824, 0.0006922239428409083, 0.0006182321605899432, 0.0005894053578052461, 0.0005724852324489886, 0.0005298783128577264], \"symmetric\": true, \"type\": \"data\"}, \"line\": {\"color\": \"#102a43\", \"width\": 2}, \"mode\": \"markers\", \"name\": \"1\", \"showlegend\": true, \"type\": \"scatter\", \"uid\": \"a3e2f39c-1c66-4434-8a3b-29b1d100dd3c\", \"x\": [20, 30, 40, 50, 60, 70, 80, 90, 100, 120, 140, 160, 180, 200], \"y\": [0.42404899999999995, 0.421316, 0.4193315, 0.41854399999999997, 0.4167346666666666, 0.4166805714285714, 0.416277, 0.41603222222222225, 0.4157474, 0.4151296666666667, 0.41521399999999997, 0.41530399999999995, 0.41515611111111117, 0.41480519999999993]}, {\"error_y\": {\"array\": [0.001191609207986729, 0.0009966191035156854, 0.0008396954879158444, 0.0007372116071396753, 0.0006746528754388903, 0.0006145600702749563, 0.0005944242637501795, 0.0005453437886034057, 0.0005320226460155665, 0.0004798683324126276, 0.0004439335158908623, 0.00040738037870740495, 0.0003853191193735443, 0.0003598635858651468], \"symmetric\": true, \"type\": \"data\"}, \"line\": {\"color\": \"#284159\", \"width\": 2}, \"mode\": \"markers\", \"name\": \"2\", \"showlegend\": true, \"type\": \"scatter\", \"uid\": \"fd79e610-cb6d-4cd9-960f-a797e43fda70\", \"x\": [20, 30, 40, 50, 60, 70, 80, 90, 100, 120, 140, 160, 180, 200], \"y\": [0.189859, 0.18690733333333331, 0.1857965, 0.18437440000000002, 0.18335866666666667, 0.18241714285714286, 0.18233349999999998, 0.18207555555555557, 0.1824478, 0.1816446666666667, 0.18172714285714286, 0.18163962500000003, 0.1813188888888889, 0.18112630000000002]}, {\"error_y\": {\"array\": [0.0008147992539021123, 0.0007109951552923785, 0.0005911492785587716, 0.0005002801945021691, 0.00047323460564004495, 0.00041766787650651265, 0.000398122857945564, 0.00037307475417641347, 0.00036292183793955947, 0.0003260115749882373, 0.0003124390227455364, 0.0002831841925314908, 0.0002517397150859928, 0.00025579695808381896], \"symmetric\": true, \"type\": \"data\"}, \"line\": {\"color\": \"#40586f\", \"width\": 2}, \"mode\": \"markers\", \"name\": \"3\", \"showlegend\": true, \"type\": \"scatter\", \"uid\": \"11ec5551-c739-415f-b178-9fcc0b3fdebf\", \"x\": [20, 30, 40, 50, 60, 70, 80, 90, 100, 120, 140, 160, 180, 200], \"y\": [0.095001, 0.09285666666666667, 0.09194799999999999, 0.0912612, 0.090243, 0.089866, 0.08952750000000001, 0.08927000000000002, 0.08931839999999999, 0.08889033333333334, 0.08894914285714285, 0.08893999999999999, 0.0888171111111111, 0.088685]}, {\"error_y\": {\"array\": [0.0006095125957419675, 0.0005049538537230699, 0.00041452023322016235, 0.00037306780887117684, 0.00032960487673296953, 0.0003050320413775698, 0.0002800138307382976, 0.00027380241058783366, 0.00026960789276970625, 0.00023655635556052974, 0.0002226739099377391, 0.00020439265166831763, 0.00017941242346887343, 0.00018336901257803956], \"symmetric\": true, \"type\": \"data\"}, \"line\": {\"color\": \"#597085\", \"width\": 2}, \"mode\": \"markers\", \"name\": \"4\", \"showlegend\": true, \"type\": \"scatter\", \"uid\": \"bbc0576e-a829-4d20-a6e8-5faa93590ce4\", \"x\": [20, 30, 40, 50, 60, 70, 80, 90, 100, 120, 140, 160, 180, 200], \"y\": [0.05385700000000001, 0.052729333333333336, 0.0516935, 0.0513508, 0.050735333333333334, 0.050542000000000004, 0.050393, 0.05014888888888889, 0.0501436, 0.0499195, 0.049864571428571425, 0.049795, 0.04971711111111111, 0.0497746]}, {\"error_y\": {\"array\": [0.00047554314591333457, 0.0003921469888337048, 0.0003326957430941126, 0.0002878009001328186, 0.000262428101544951, 0.00024030954519025678, 0.00022300030344203558, 0.00022127802397625058, 0.00021066237167560714, 0.00018499716228844457, 0.0001760991842526237, 0.00016290549930387364, 0.00014474875059960639, 0.00014006913267708285], \"symmetric\": true, \"type\": \"data\"}, \"line\": {\"color\": \"#657b90\", \"width\": 2}, \"mode\": \"markers\", \"name\": \"5\", \"showlegend\": true, \"type\": \"scatter\", \"uid\": \"f10fc1ae-7934-40d7-9da2-ebcb520ec0a5\", \"x\": [20, 30, 40, 50, 60, 70, 80, 90, 100, 120, 140, 160, 180, 200], \"y\": [0.034447000000000005, 0.03370733333333334, 0.0328075, 0.0325124, 0.032172000000000006, 0.03197885714285714, 0.03179975, 0.03168066666666667, 0.03173260000000001, 0.0314925, 0.03150457142857143, 0.031437375, 0.031343666666666666, 0.0313996]}, {\"error_y\": {\"array\": [0.00038698133792781274, 0.00031809526329700183, 0.00027341571971031174, 0.00023691358773877876, 0.00021535194062393258, 0.0002058652493118295, 0.00019086198221957386, 0.00018230701659131197, 0.00017008277787158477, 0.00015370773215272186, 0.00014472701780140988, 0.00013605976841625698, 0.00011993819851411703, 0.0001151732754139306], \"symmetric\": true, \"type\": \"data\"}, \"line\": {\"color\": \"#71879b\", \"width\": 2}, \"mode\": \"markers\", \"name\": \"6\", \"showlegend\": true, \"type\": \"scatter\", \"uid\": \"c29ea133-9976-4231-8ac3-3019ca71e587\", \"x\": [20, 30, 40, 50, 60, 70, 80, 90, 100, 120, 140, 160, 180, 200], \"y\": [0.023760000000000007, 0.02339666666666667, 0.022663500000000003, 0.022470000000000004, 0.022238, 0.021996571428571428, 0.02193975, 0.02185688888888889, 0.021853400000000002, 0.02173066666666667, 0.02163042857142857, 0.021652124999999998, 0.021533, 0.021594299999999997]}, {\"error_y\": {\"array\": [0.0003276921192758593, 0.0002668003168955606, 0.00023055332030464453, 0.00020419211115066556, 0.0001902446425837564, 0.0001764159728359108, 0.00016280396720285854, 0.0001586648784476455, 0.00014843989227919776, 0.0001293163567612281, 0.0001264514719571489, 0.00011821696330830597, 0.00010194568187161943, 9.829480210240518e-05], \"symmetric\": true, \"type\": \"data\"}, \"line\": {\"color\": \"#899eb2\", \"width\": 2}, \"mode\": \"markers\", \"name\": \"7\", \"showlegend\": true, \"type\": \"scatter\", \"uid\": \"2c1362e3-fb48-4eb7-9bf5-ae79ea4eedbe\", \"x\": [20, 30, 40, 50, 60, 70, 80, 90, 100, 120, 140, 160, 180, 200], \"y\": [0.017656, 0.017188, 0.016642000000000004, 0.0164872, 0.016271, 0.01608, 0.01601925, 0.01592311111111111, 0.0159216, 0.015851666666666667, 0.01569957142857143, 0.015795375, 0.015677333333333335, 0.015733]}, {\"error_y\": {\"array\": [0.00028259806156587664, 0.00023445604100767278, 0.0001993727485195601, 0.00017461396920244796, 0.0001672258716956862, 0.00015165192125814878, 0.00013891981650429144, 0.00013615244271504218, 0.00012383367954954744, 0.00011259140950218136, 0.00010698623206615782, 0.00010101465516116801, 8.835782544293871e-05, 8.553124025161802e-05], \"symmetric\": true, \"type\": \"data\"}, \"line\": {\"color\": \"#a1b5c8\", \"width\": 2}, \"mode\": \"markers\", \"name\": \"8\", \"showlegend\": true, \"type\": \"scatter\", \"uid\": \"aacddffc-dadd-4be8-b98b-446d54afb14f\", \"x\": [20, 30, 40, 50, 60, 70, 80, 90, 100, 120, 140, 160, 180, 200], \"y\": [0.013587000000000004, 0.013151333333333334, 0.012747500000000002, 0.0125164, 0.012416333333333335, 0.012204285714285714, 0.012168000000000003, 0.012085555555555554, 0.01203, 0.012004333333333336, 0.011914999999999999, 0.01190375, 0.01185411111111111, 0.011879999999999998]}, {\"error_y\": {\"array\": [0.00024399544622404534, 0.0002046664541057702, 0.0001752302277986735, 0.00015085047474156654, 0.00014132864071448505, 0.00013132864579714883, 0.00012143768025672441, 0.00011647159634994172, 0.00010914317641305316, 9.804148186227887e-05, 9.281501617238002e-05, 8.781738952333522e-05, 7.789906419187502e-05, 7.347985020220434e-05], \"symmetric\": true, \"type\": \"data\"}, \"line\": {\"color\": \"#baccde\", \"width\": 2}, \"mode\": \"markers\", \"name\": \"9\", \"showlegend\": true, \"type\": \"scatter\", \"uid\": \"0799149e-a482-4467-bdf9-0871af896f5d\", \"x\": [20, 30, 40, 50, 60, 70, 80, 90, 100, 120, 140, 160, 180, 200], \"y\": [0.010717000000000003, 0.010374666666666666, 0.009975000000000001, 0.009802, 0.009694000000000001, 0.009466857142857141, 0.00948675, 0.009400666666666668, 0.009316600000000001, 0.009324666666666667, 0.009245571428571428, 0.00921575, 0.009165666666666667, 0.009180100000000002]}, {\"error_y\": {\"array\": [0.00021606492762356178, 0.0001786359555118995, 0.00015366771468395613, 0.00013263698882000363, 0.00012200004755089055, 0.00011434899233324129, 0.00010694197606222148, 0.00010375031843166363, 9.560503256831598e-05, 8.52638687730715e-05, 7.918450175719479e-05, 7.744612957001145e-05, 6.902412565809066e-05, 6.50337925178669e-05], \"symmetric\": true, \"type\": \"data\"}, \"line\": {\"color\": \"#c6d8e9\", \"width\": 2}, \"mode\": \"markers\", \"name\": \"10\", \"showlegend\": true, \"type\": \"scatter\", \"uid\": \"b3c29ef8-950c-4d50-a230-50a36577063c\", \"x\": [20, 30, 40, 50, 60, 70, 80, 90, 100, 120, 140, 160, 180, 200], \"y\": [0.008655000000000001, 0.008304666666666667, 0.0079295, 0.0078072, 0.007690666666666667, 0.007499714285714285, 0.007491500000000002, 0.0074155555555555554, 0.0073578, 0.007325333333333333, 0.007270857142857142, 0.00725, 0.0072050000000000005, 0.0072092]}, {\"line\": {\"color\": \"gold\", \"width\": 2}, \"mode\": \"markers\", \"name\": \"P/A\", \"showlegend\": true, \"type\": \"scatter\", \"uid\": \"13ec975a-a178-4a37-9690-0efd84f318ec\", \"x\": [20, 30, 40, 50, 60, 70, 80, 90, 100, 120, 140, 160, 180, 200], \"y\": [0.14607948442534907, 0.10978184377199154, 0.09209837781266353, 0.08163265306122448, 0.074714631615358, 0.06980183377698905, 0.06613278222681478, 0.0632882366429718, 0.06101834673263245, 0.057623049219687875, 0.055204815739245336, 0.053394942882813504, 0.05198951088815414, 0.05086657778689365]}],\n",
       "                        {\"annotations\": [{\"align\": \"right\", \"showarrow\": false, \"text\": \"Round\", \"valign\": \"top\", \"x\": 1.07, \"xanchor\": \"center\", \"xref\": \"paper\", \"y\": 1.04, \"yanchor\": \"top\", \"yref\": \"paper\"}], \"height\": 528, \"showlegend\": true, \"title\": {\"text\": \"Proportion of Single Pieces Remaining As a Function of Puzzle Width\"}, \"width\": 704, \"xaxis\": {\"showline\": false, \"title\": {\"text\": \"Puzzle Width\"}, \"zeroline\": false}, \"yaxis\": {\"title\": {\"text\": \"Proportion of Single Pieces\"}, \"zeroline\": false}},\n",
       "                        {\"showLink\": false, \"linkText\": \"Export to plot.ly\", \"plotlyServerURL\": \"https://plot.ly\", \"responsive\": true}\n",
       "                    ).then(function(){\n",
       "                            \n",
       "var gd = document.getElementById('77ab2ebe-5110-45b0-8a1f-5c364013dff5');\n",
       "var x = new MutationObserver(function (mutations, observer) {{\n",
       "        var display = window.getComputedStyle(gd).display;\n",
       "        if (!display || display === 'none') {{\n",
       "            console.log([gd, 'removed!']);\n",
       "            Plotly.purge(gd);\n",
       "            observer.disconnect();\n",
       "        }}\n",
       "}});\n",
       "\n",
       "// Listen for the removal of the full notebook cells\n",
       "var notebookContainer = gd.closest('#notebook-container');\n",
       "if (notebookContainer) {{\n",
       "    x.observe(notebookContainer, {childList: true});\n",
       "}}\n",
       "\n",
       "// Listen for the clearing of the current output cell\n",
       "var outputEl = gd.closest('.output');\n",
       "if (outputEl) {{\n",
       "    x.observe(outputEl, {childList: true});\n",
       "}}\n",
       "\n",
       "                        })\n",
       "                };\n",
       "                });\n",
       "            </script>\n",
       "        </div>"
      ]
     },
     "metadata": {},
     "output_type": "display_data"
    }
   ],
   "source": [
    "import plotly.offline as pyo\n",
    "import plotly.graph_objs as go\n",
    "pyo.offline.init_notebook_mode(connected=True)\n",
    "\n",
    "data = []\n",
    "colors = [0,2,4,6,7,8,10,12,14,15]\n",
    "\n",
    "for v in range(len(V[0,:])):  \n",
    "    trace = go.Scatter(\n",
    "        x = thresh,\n",
    "        y = V[:,v],\n",
    "        showlegend=True,\n",
    "        error_y=dict(\n",
    "            type='data',\n",
    "            symmetric=True,\n",
    "            array=np.array(E[:,v])*2.581),\n",
    "        mode = 'markers',\n",
    "        name = str(v+1),\n",
    "        line = dict(\n",
    "            color = matplotlib.colors.rgb2hex(cm(colors[v])),\n",
    "            width = 2))\n",
    "    data.append(trace)\n",
    "trace = go.Scatter(\n",
    "    x = thresh,\n",
    "    y = 1/np.array(ratio),\n",
    "    showlegend=True,\n",
    "#     error_y=dict(\n",
    "#         type='data',\n",
    "#         symmetric=False,\n",
    "#         array=np.array(E[:,v])*2.581,\n",
    "#         arrayminus=np.array(E[:,v])*2.581),\n",
    "    mode = 'markers',\n",
    "    name = 'P/A',\n",
    "    line = dict(\n",
    "        color = 'gold',\n",
    "        width = 2))\n",
    "data.append(trace)\n",
    "layout = go.Layout(\n",
    "    title = 'Proportion of Single Pieces Remaining As a Function of Puzzle Width',\n",
    "    showlegend=True,\n",
    "    width=8*88,\n",
    "    height=6*88,\n",
    "    xaxis=dict(\n",
    "        title = 'Puzzle Width',\n",
    "        showline=False,\n",
    "        zeroline=False\n",
    "    ),\n",
    "    yaxis=dict(\n",
    "        title = 'Proportion of Single Pieces',\n",
    "        zeroline=False\n",
    "    ),\n",
    "    annotations=[\n",
    "        dict(\n",
    "            x=1.07,\n",
    "            y=1.04,\n",
    "            align=\"right\",\n",
    "            valign=\"top\",\n",
    "            text='Round',\n",
    "            showarrow=False,\n",
    "            xref=\"paper\",\n",
    "            yref=\"paper\",\n",
    "            xanchor=\"center\",\n",
    "            yanchor=\"top\"\n",
    "        )\n",
    "    ]\n",
    ")\n",
    "\n",
    "fig = go.Figure(data, layout=layout)\n",
    "fig.write_html(\"puzzleround.html\")\n",
    "pyo.iplot(fig, filename='line-mode')"
   ]
  },
  {
   "cell_type": "code",
   "execution_count": null,
   "metadata": {},
   "outputs": [],
   "source": []
  }
 ],
 "metadata": {
  "kernelspec": {
   "display_name": "Python 3",
   "language": "python",
   "name": "python3"
  },
  "language_info": {
   "codemirror_mode": {
    "name": "ipython",
    "version": 3
   },
   "file_extension": ".py",
   "mimetype": "text/x-python",
   "name": "python",
   "nbconvert_exporter": "python",
   "pygments_lexer": "ipython3",
   "version": "3.6.12"
  }
 },
 "nbformat": 4,
 "nbformat_minor": 4
}
